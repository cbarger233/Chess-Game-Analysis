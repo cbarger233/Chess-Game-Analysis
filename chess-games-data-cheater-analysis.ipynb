{
 "cells": [
  {
   "cell_type": "markdown",
   "id": "1c5b8437",
   "metadata": {},
   "source": [
    "# Chess Games Data Analysis\n",
    "\n",
    "In this notebook, I am going to do an analysis on a dataset of chess games that were played on Lichess. The dataset can be downloaded from https://www.kaggle.com/mysarahmadbhat/online-chess-games\n",
    "\n",
    "I will do some exploratory data analysis to try to uncover some trends for common first moves by the white pieces. Afterwards, I will explore the following questions:\n",
    "\n",
    "- How big of an advantage do white pieces actually have, if any?\n",
    "- How does rating affect who wins?\n",
    "- Are there are players in this dataset with a suspiciously high win rate? Could they be cheating?\n",
    "\n",
    "With the help of the stockfish module, we can hopefully answer the third question from that list. All analysis of the game will be done using the latest verion (at this time, of course) of Stockfish, Stockfish 14."
   ]
  },
  {
   "cell_type": "code",
   "execution_count": 1,
   "id": "bb1d454a",
   "metadata": {
    "_cell_guid": "b1076dfc-b9ad-4769-8c92-a6c4dae69d19",
    "_uuid": "8f2839f25d086af736a60e9eeb907d3b93b6e0e5",
    "execution": {
     "iopub.execute_input": "2021-10-05T16:01:52.861022Z",
     "iopub.status.busy": "2021-10-05T16:01:52.860333Z",
     "iopub.status.idle": "2021-10-05T16:01:53.927623Z",
     "shell.execute_reply": "2021-10-05T16:01:53.928127Z",
     "shell.execute_reply.started": "2021-10-05T14:52:28.282697Z"
    },
    "papermill": {
     "duration": 1.095939,
     "end_time": "2021-10-05T16:01:53.928464",
     "exception": false,
     "start_time": "2021-10-05T16:01:52.832525",
     "status": "completed"
    },
    "tags": []
   },
   "outputs": [],
   "source": [
    "import numpy as np\n",
    "import pandas as pd\n",
    "import matplotlib.pyplot as plt\n",
    "import seaborn as sns\n",
    "from stockfish import Stockfish\n",
    "import chess\n",
    "import chess.engine\n",
    "import math\n",
    "\n",
    "#where stockfish 14 is located on my computer\n",
    "engine = chess.engine.SimpleEngine.popen_uci(\"C:/Users/cbarg/Downloads/stockfish_14_win_x64_avx2/stockfish_14_win_x64_avx2/stockfish_14_x64_avx2.exe\")\n",
    "stockfish = Stockfish('C:/Users/cbarg/Downloads/stockfish_14_win_x64_avx2/stockfish_14_win_x64_avx2/stockfish_14_x64_avx2.exe')\n",
    "stockfish.set_elo_rating(2600)\n",
    "df = pd.read_csv('chess_games.csv')"
   ]
  },
  {
   "cell_type": "markdown",
   "id": "c650af8d",
   "metadata": {
    "papermill": {
     "duration": 0.016405,
     "end_time": "2021-10-05T16:01:53.964137",
     "exception": false,
     "start_time": "2021-10-05T16:01:53.947732",
     "status": "completed"
    },
    "tags": []
   },
   "source": [
    "Before we begin analysis, let's see what kind of data we're dealing with here. We might have to add some columns to help with analysis, or clean the data a bit."
   ]
  },
  {
   "cell_type": "code",
   "execution_count": 2,
   "id": "885b817b",
   "metadata": {
    "execution": {
     "iopub.execute_input": "2021-10-05T16:01:54.003800Z",
     "iopub.status.busy": "2021-10-05T16:01:54.002869Z",
     "iopub.status.idle": "2021-10-05T16:01:54.006572Z",
     "shell.execute_reply": "2021-10-05T16:01:54.007047Z",
     "shell.execute_reply.started": "2021-10-05T14:52:32.171521Z"
    },
    "papermill": {
     "duration": 0.026694,
     "end_time": "2021-10-05T16:01:54.007224",
     "exception": false,
     "start_time": "2021-10-05T16:01:53.980530",
     "status": "completed"
    },
    "tags": []
   },
   "outputs": [
    {
     "name": "stdout",
     "output_type": "stream",
     "text": [
      "game_id               int64\n",
      "rated                  bool\n",
      "turns                 int64\n",
      "victory_status       object\n",
      "winner               object\n",
      "time_increment       object\n",
      "white_id             object\n",
      "white_rating          int64\n",
      "black_id             object\n",
      "black_rating          int64\n",
      "moves                object\n",
      "opening_code         object\n",
      "opening_moves         int64\n",
      "opening_fullname     object\n",
      "opening_shortname    object\n",
      "opening_response     object\n",
      "opening_variation    object\n",
      "dtype: object\n"
     ]
    },
    {
     "data": {
      "text/html": [
       "<div>\n",
       "<style scoped>\n",
       "    .dataframe tbody tr th:only-of-type {\n",
       "        vertical-align: middle;\n",
       "    }\n",
       "\n",
       "    .dataframe tbody tr th {\n",
       "        vertical-align: top;\n",
       "    }\n",
       "\n",
       "    .dataframe thead th {\n",
       "        text-align: right;\n",
       "    }\n",
       "</style>\n",
       "<table border=\"1\" class=\"dataframe\">\n",
       "  <thead>\n",
       "    <tr style=\"text-align: right;\">\n",
       "      <th></th>\n",
       "      <th>game_id</th>\n",
       "      <th>rated</th>\n",
       "      <th>turns</th>\n",
       "      <th>victory_status</th>\n",
       "      <th>winner</th>\n",
       "      <th>time_increment</th>\n",
       "      <th>white_id</th>\n",
       "      <th>white_rating</th>\n",
       "      <th>black_id</th>\n",
       "      <th>black_rating</th>\n",
       "      <th>moves</th>\n",
       "      <th>opening_code</th>\n",
       "      <th>opening_moves</th>\n",
       "      <th>opening_fullname</th>\n",
       "      <th>opening_shortname</th>\n",
       "      <th>opening_response</th>\n",
       "      <th>opening_variation</th>\n",
       "    </tr>\n",
       "  </thead>\n",
       "  <tbody>\n",
       "    <tr>\n",
       "      <th>0</th>\n",
       "      <td>1</td>\n",
       "      <td>False</td>\n",
       "      <td>13</td>\n",
       "      <td>Out of Time</td>\n",
       "      <td>White</td>\n",
       "      <td>15+2</td>\n",
       "      <td>bourgris</td>\n",
       "      <td>1500</td>\n",
       "      <td>a-00</td>\n",
       "      <td>1191</td>\n",
       "      <td>d4 d5 c4 c6 cxd5 e6 dxe6 fxe6 Nf3 Bb4+ Nc3 Ba5...</td>\n",
       "      <td>D10</td>\n",
       "      <td>5</td>\n",
       "      <td>Slav Defense: Exchange Variation</td>\n",
       "      <td>Slav Defense</td>\n",
       "      <td>NaN</td>\n",
       "      <td>Exchange Variation</td>\n",
       "    </tr>\n",
       "  </tbody>\n",
       "</table>\n",
       "</div>"
      ],
      "text/plain": [
       "   game_id  rated  turns victory_status winner time_increment  white_id  \\\n",
       "0        1  False     13    Out of Time  White           15+2  bourgris   \n",
       "\n",
       "   white_rating black_id  black_rating  \\\n",
       "0          1500     a-00          1191   \n",
       "\n",
       "                                               moves opening_code  \\\n",
       "0  d4 d5 c4 c6 cxd5 e6 dxe6 fxe6 Nf3 Bb4+ Nc3 Ba5...          D10   \n",
       "\n",
       "   opening_moves                  opening_fullname opening_shortname  \\\n",
       "0              5  Slav Defense: Exchange Variation      Slav Defense   \n",
       "\n",
       "  opening_response   opening_variation  \n",
       "0              NaN  Exchange Variation  "
      ]
     },
     "execution_count": 2,
     "metadata": {},
     "output_type": "execute_result"
    }
   ],
   "source": [
    "print(df.dtypes)\n",
    "df.head(1)"
   ]
  },
  {
   "cell_type": "markdown",
   "id": "48f92c77",
   "metadata": {
    "papermill": {
     "duration": 0.016161,
     "end_time": "2021-10-05T16:01:54.040419",
     "exception": false,
     "start_time": "2021-10-05T16:01:54.024258",
     "status": "completed"
    },
    "tags": []
   },
   "source": [
    "## Adding columns, separating data by opening\n",
    "\n",
    "In the next cell, I am going to add a few columns to the dataFrame that will be helpful in the analysis of the data. For example, the moves are given in one long string, which could prove to be hard to access if we are searching for a move number in particular. To make it easier for us, we can turn this string into a list.\n",
    "\n",
    "Since we are also interested in how rating affects the outcome of the games, we might want a column telling us the rating difference between the players, and another column telling us whether or not the higher-rated player won. Other columns have been added as needed.\n",
    "\n",
    "Additionally, I've created four new DataFrames based on four common opening moves by white. The frequency with which these opening moves are used are visualized in a pie chart below the next cell."
   ]
  },
  {
   "cell_type": "code",
   "execution_count": 3,
   "id": "a1d7449d",
   "metadata": {
    "execution": {
     "iopub.execute_input": "2021-10-05T16:01:54.102279Z",
     "iopub.status.busy": "2021-10-05T16:01:54.093120Z",
     "iopub.status.idle": "2021-10-05T16:01:54.634160Z",
     "shell.execute_reply": "2021-10-05T16:01:54.633623Z",
     "shell.execute_reply.started": "2021-10-05T14:52:36.030048Z"
    },
    "papermill": {
     "duration": 0.577189,
     "end_time": "2021-10-05T16:01:54.634296",
     "exception": false,
     "start_time": "2021-10-05T16:01:54.057107",
     "status": "completed"
    },
    "tags": []
   },
   "outputs": [
    {
     "data": {
      "image/png": "[encoded data removed]",
      "text/plain": [
       "<Figure size 432x288 with 1 Axes>"
      ]
     },
     "metadata": {},
     "output_type": "display_data"
    },
    {
     "data": {
      "text/plain": [
       "<Figure size 432x288 with 0 Axes>"
      ]
     },
     "metadata": {},
     "output_type": "display_data"
    }
   ],
   "source": [
    "#Getting rid of all of the games that are only a few moves\n",
    "df = df[df.turns >= 3]\n",
    "\n",
    "#Making a new Series in the dataframe to contain a list of all the moves, since the move list as a string is not all that useful to us\n",
    "df['moves_list'] = df.moves.apply(lambda x: x.split())\n",
    "\n",
    "#Add columns called opening_move and response, which are the first moves by white and black, respectively\n",
    "df['opening_move'] = df.moves_list.apply(lambda x: x[0])\n",
    "df['response'] = df.moves_list.apply(lambda x: x[1])\n",
    "\n",
    "#Adding an opening_name column to name a few common opening moves\n",
    "df['opening_name'] = df.moves_list.apply(lambda x: 'King\\'s Pawn' if x[0] == 'e4' else ('Queen\\'s Pawn' if x[0] == 'd4' else ('English' if x[0] == 'c4' else ('Reti' if x[0] == 'Nf3' else 'Other'))))\n",
    "\n",
    "#What was the rating gap between the two players?\n",
    "df['rating_gap'] = abs(df['white_rating'] - df['black_rating'])\n",
    "\n",
    "#Did the higher-rated player win?\n",
    "df['higher_rated_victory'] = np.where((df['winner'] == 'White') & (df['white_rating'] > df['black_rating']) | (df['winner'] == 'Black') & (df['black_rating'] > df['white_rating']), 1, 0)\n",
    "\n",
    "#Classify the rating gap. This will be used later when we want to visualize what affect greater rating gaps have on the victory rate of higher-rated players\n",
    "df['rating_gap_class'] = df.rating_gap.apply(lambda x: '0-50' if (x <= 50) else ('51-100' if (x > 50 and x <= 100) else ('101-150' if (x > 100 and x <= 150) else ('151-200' if (x > 150 and x <= 200) else ('201-250' if (x > 200 and x <= 250) else '>250')))))\n",
    "\n",
    "#Did white win?\n",
    "df['white_victory'] = np.where(df['winner'] == 'White', 1, 0)\n",
    "\n",
    "#Split into four of the most popular openings by white\n",
    "english = df[df.opening_move == 'c4']\n",
    "queens_pawn = df[df.opening_move == 'd4']\n",
    "kings_pawn = df[df.opening_move == 'e4']\n",
    "reti = df[df.opening_move == 'Nf3']\n",
    "\n",
    "#Visualize which openings are used the most\n",
    "opening_data = df.groupby('opening_name')['game_id'].count()\n",
    "plt.pie(x=opening_data, autopct='%.1f%%', labels=opening_data.keys(), pctdistance=0.5)\n",
    "plt.title('Percentage of Openings', fontsize=14)\n",
    "plt.axis('equal') #ensures pie chart is a circle\n",
    "plt.show()\n",
    "plt.clf()"
   ]
  },
  {
   "cell_type": "markdown",
   "id": "ae808b45",
   "metadata": {
    "papermill": {
     "duration": 0.018576,
     "end_time": "2021-10-05T16:01:54.670567",
     "exception": false,
     "start_time": "2021-10-05T16:01:54.651991",
     "status": "completed"
    },
    "tags": []
   },
   "source": [
    "Okay, cool. Since we are interested in seeing what sort of effect being the white or black pieces can have on your chances of winning, let's take a look at that data for each of the four common openings.\n",
    "\n",
    "# Is there a color advantage by opening?"
   ]
  },
  {
   "cell_type": "code",
   "execution_count": 4,
   "id": "752de506",
   "metadata": {
    "execution": {
     "iopub.execute_input": "2021-10-05T16:01:54.715423Z",
     "iopub.status.busy": "2021-10-05T16:01:54.714781Z",
     "iopub.status.idle": "2021-10-05T16:01:55.028720Z",
     "shell.execute_reply": "2021-10-05T16:01:55.029156Z",
     "shell.execute_reply.started": "2021-10-05T14:52:54.298665Z"
    },
    "papermill": {
     "duration": 0.341006,
     "end_time": "2021-10-05T16:01:55.029329",
     "exception": false,
     "start_time": "2021-10-05T16:01:54.688323",
     "status": "completed"
    },
    "tags": []
   },
   "outputs": [
    {
     "data": {
      "image/png": "[encoded data removed]",
      "text/plain": [
       "<Figure size 720x720 with 4 Axes>"
      ]
     },
     "metadata": {},
     "output_type": "display_data"
    }
   ],
   "source": [
    "#Visualize who was able to win after each opening using pie chart\n",
    "\n",
    "#For each DataFrame, create additional DataFrame counting the number of times white or black won (or drew)\n",
    "english_winner_data = english.groupby('winner')['game_id'].count()\n",
    "queen_winner_data = queens_pawn.groupby('winner')['game_id'].count()\n",
    "king_winner_data = kings_pawn.groupby('winner')['game_id'].count()\n",
    "reti_winner_data = reti.groupby('winner')['game_id'].count()\n",
    "\n",
    "pie, axs = plt.subplots(2,2, figsize=[10,10])\n",
    "\n",
    "plt.subplot(2,2,1)\n",
    "plt.pie(x=english_winner_data, autopct=\"%.1f%%\", labels=english_winner_data.keys(), pctdistance=0.5)\n",
    "plt.title(\"Winners After a c4 Opening\", fontsize=14)\n",
    "plt.axis('equal')\n",
    "\n",
    "plt.subplot(2,2,2)\n",
    "plt.pie(x=queen_winner_data, autopct=\"%.1f%%\", labels=queen_winner_data.keys(), pctdistance=0.5)\n",
    "plt.title(\"Winners After a d4 Opening\", fontsize=14)\n",
    "plt.axis('equal')\n",
    "\n",
    "plt.subplot(2,2,3)\n",
    "plt.pie(x=king_winner_data, autopct=\"%.1f%%\", labels=king_winner_data.keys(), pctdistance=0.5)\n",
    "plt.title(\"Winners After a e4 Opening\", fontsize=14)\n",
    "plt.axis('equal')\n",
    "\n",
    "plt.subplot(2,2,4)\n",
    "plt.pie(x=reti_winner_data, autopct=\"%.1f%%\", labels=reti_winner_data.keys(), pctdistance=0.5)\n",
    "plt.title(\"Winners After a Nf3 Opening\", fontsize=14)\n",
    "plt.axis('equal')\n",
    "plt.show()"
   ]
  },
  {
   "cell_type": "markdown",
   "id": "9749643a",
   "metadata": {
    "papermill": {
     "duration": 0.018893,
     "end_time": "2021-10-05T16:01:55.067642",
     "exception": false,
     "start_time": "2021-10-05T16:01:55.048749",
     "status": "completed"
    },
    "tags": []
   },
   "source": [
    "# How often does the higher-rated player win?\n",
    "\n",
    "Let's first try to visualize this by opening, like we did with the white/black piece victory rate. I'll do this by counting the total number of games where the higher-rated player was victorious, and then adding columns for the total number of games played and games that were either drawn or lost by the higher-rated player."
   ]
  },
  {
   "cell_type": "code",
   "execution_count": 5,
   "id": "54a46338",
   "metadata": {
    "execution": {
     "iopub.execute_input": "2021-10-05T16:01:55.131431Z",
     "iopub.status.busy": "2021-10-05T16:01:55.128674Z",
     "iopub.status.idle": "2021-10-05T16:01:55.147146Z",
     "shell.execute_reply": "2021-10-05T16:01:55.146551Z",
     "shell.execute_reply.started": "2021-10-05T14:53:26.927056Z"
    },
    "papermill": {
     "duration": 0.0508,
     "end_time": "2021-10-05T16:01:55.147301",
     "exception": false,
     "start_time": "2021-10-05T16:01:55.096501",
     "status": "completed"
    },
    "tags": []
   },
   "outputs": [
    {
     "name": "stdout",
     "output_type": "stream",
     "text": [
      "              higher_rated_victory  totals  losses_or_draws\n",
      "opening_name                                               \n",
      "English                        426     714              288\n",
      "King's Pawn                   7626   12499             4873\n",
      "Other                          915    1434              519\n",
      "Queen's Pawn                  2798    4486             1688\n",
      "Reti                           424     722              298\n"
     ]
    }
   ],
   "source": [
    "#Creating a DataFrame to tell me the total amount of wins by the white pieces in four common openings\n",
    "\n",
    "#Counts the total amount of white piece victories, grouped by opening name\n",
    "df_grouped_ratings = df.groupby('opening_name')['higher_rated_victory'].sum()\n",
    "df_grouped_ratings = df_grouped_ratings.to_frame() #Converting from series to dataFrame\n",
    "\n",
    "#Adding a column for the total number of games\n",
    "df_grouped_ratings['totals'] = df.groupby('opening_name')['higher_rated_victory'].count()\n",
    "#Adding a column for draws/losses\n",
    "df_grouped_ratings['losses_or_draws'] = df_grouped_ratings['totals'] - df_grouped_ratings['higher_rated_victory']\n",
    "print(df_grouped_ratings.head(10))"
   ]
  },
  {
   "cell_type": "markdown",
   "id": "aa8da66c",
   "metadata": {
    "papermill": {
     "duration": 0.027492,
     "end_time": "2021-10-05T16:01:55.197169",
     "exception": false,
     "start_time": "2021-10-05T16:01:55.169677",
     "status": "completed"
    },
    "tags": []
   },
   "source": [
    "I want some sort of visual evidence to indicate whether or not white is completely dominant over black or not. I've grouped these by four common openings to see whether or not openings might have an affect on the outcome of the game."
   ]
  },
  {
   "cell_type": "code",
   "execution_count": 6,
   "id": "115fef45",
   "metadata": {
    "execution": {
     "iopub.execute_input": "2021-10-05T16:01:55.241723Z",
     "iopub.status.busy": "2021-10-05T16:01:55.240764Z",
     "iopub.status.idle": "2021-10-05T16:01:55.483477Z",
     "shell.execute_reply": "2021-10-05T16:01:55.482886Z",
     "shell.execute_reply.started": "2021-10-05T14:53:47.668598Z"
    },
    "papermill": {
     "duration": 0.265934,
     "end_time": "2021-10-05T16:01:55.483611",
     "exception": false,
     "start_time": "2021-10-05T16:01:55.217677",
     "status": "completed"
    },
    "tags": []
   },
   "outputs": [
    {
     "data": {
      "image/png": "[encoded data removed]",
      "text/plain": [
       "<Figure size 864x720 with 1 Axes>"
      ]
     },
     "metadata": {
      "needs_background": "light"
     },
     "output_type": "display_data"
    }
   ],
   "source": [
    "#Visualize which ratings dominate which opening\n",
    "df_grouped_ratings = df_grouped_ratings.sort_values('totals', ascending=False)\n",
    "fig, ax = plt.subplots(1, figsize=(12,10))\n",
    "ax.bar([0,1,2,3,4], df_grouped_ratings['higher_rated_victory'], label='Higher Rating Win', color='#ae24d1', tick_label=df_grouped_ratings.index)\n",
    "ax.bar([0,1,2,3,4], df_grouped_ratings['losses_or_draws'], label='Draw or Lower Rating Win', bottom=df_grouped_ratings['higher_rated_victory'], color='#24b1d1')\n",
    "ax.set_ylabel('Wins', fontsize=14)\n",
    "ax.set_xlabel('Opening Move', fontsize=14)\n",
    "ax.set_title('Wins by Opening Move', fontsize=18)\n",
    "ax.legend()\n",
    "plt.show()"
   ]
  },
  {
   "cell_type": "markdown",
   "id": "184db6c0",
   "metadata": {
    "papermill": {
     "duration": 0.021573,
     "end_time": "2021-10-05T16:01:55.525876",
     "exception": false,
     "start_time": "2021-10-05T16:01:55.504303",
     "status": "completed"
    },
    "tags": []
   },
   "source": [
    "Looking at the barplot, we can see that the higher-rated player has a slight advantage in just about every opening."
   ]
  },
  {
   "cell_type": "markdown",
   "id": "0d0b9bf9",
   "metadata": {
    "papermill": {
     "duration": 0.020341,
     "end_time": "2021-10-05T16:01:55.566836",
     "exception": false,
     "start_time": "2021-10-05T16:01:55.546495",
     "status": "completed"
    },
    "tags": []
   },
   "source": [
    "# White's Victory Rate by Response by Opening\n",
    "\n",
    "Below I've plotted barplots coresponding to the winning rate of the white pieces when black makes the move indicated on the x-axis.\n",
    "\n",
    "I've included all of the response moves in the dataset, so some of the lesser-used (and frankly, terrible) moves by black are seen in the plots. Since these are used so little, the error bars are gigantic. The further you get to the right on each plot, the rarer the move, and the bigger the error bar.\n",
    "\n",
    "Again, I've done these plots for four common first moves by the white pieces."
   ]
  },
  {
   "cell_type": "code",
   "execution_count": 7,
   "id": "1810060a",
   "metadata": {
    "execution": {
     "iopub.execute_input": "2021-10-05T16:01:55.611384Z",
     "iopub.status.busy": "2021-10-05T16:01:55.610780Z",
     "iopub.status.idle": "2021-10-05T16:01:58.236982Z",
     "shell.execute_reply": "2021-10-05T16:01:58.237472Z",
     "shell.execute_reply.started": "2021-10-05T14:54:44.265664Z"
    },
    "papermill": {
     "duration": 2.650123,
     "end_time": "2021-10-05T16:01:58.237648",
     "exception": false,
     "start_time": "2021-10-05T16:01:55.587525",
     "status": "completed"
    },
    "tags": []
   },
   "outputs": [
    {
     "data": {
      "text/plain": [
       "<Figure size 432x288 with 0 Axes>"
      ]
     },
     "metadata": {},
     "output_type": "display_data"
    },
    {
     "data": {
      "image/png": "[encoded data removed]",
      "text/plain": [
       "<Figure size 1152x720 with 4 Axes>"
      ]
     },
     "metadata": {
      "needs_background": "light"
     },
     "output_type": "display_data"
    },
    {
     "data": {
      "text/plain": [
       "<Figure size 432x288 with 0 Axes>"
      ]
     },
     "metadata": {},
     "output_type": "display_data"
    }
   ],
   "source": [
    "plt.clf()\n",
    "pie, axs = plt.subplots(2,2, figsize=[16,10])\n",
    "\n",
    "plt.subplot(2,2,1)\n",
    "sns.barplot(\n",
    "    data=kings_pawn,\n",
    "    x='response',\n",
    "    y='white_victory',\n",
    "    #palette='paired'\n",
    ")\n",
    "plt.title('King\\'s Pawn Opening Response')\n",
    "plt.ylabel('White Winning Rate')\n",
    "plt.xlabel('Black\\'s Response')\n",
    "plt.axhline(0.5)\n",
    "\n",
    "plt.subplot(2,2,2)\n",
    "sns.barplot(\n",
    "    data=queens_pawn,\n",
    "    x='response',\n",
    "    y='white_victory',\n",
    "    palette='Spectral'\n",
    ")\n",
    "plt.title('Queen\\'s Pawn Opening Response')\n",
    "plt.ylabel('White Winning Rate')\n",
    "plt.xlabel('Black\\'s Response')\n",
    "plt.axhline(0.5)\n",
    "\n",
    "plt.subplot(2,2,3)\n",
    "sns.barplot(\n",
    "    data=english,\n",
    "    x='response',\n",
    "    y='white_victory',\n",
    "    palette='brg_r'\n",
    ")\n",
    "plt.title('English Opening Response')\n",
    "plt.ylabel('White Winning Rate')\n",
    "plt.xlabel('Black\\'s Response')\n",
    "plt.axhline(0.5)\n",
    "\n",
    "plt.subplot(2,2,4)\n",
    "sns.barplot(\n",
    "    data=reti,\n",
    "    x='response',\n",
    "    y='white_victory',\n",
    "    palette='Wistia'\n",
    ")\n",
    "plt.title('Reti Opening Response')\n",
    "plt.ylabel('White Winning Rate')\n",
    "plt.xlabel('Black\\'s Response')\n",
    "plt.axhline(0.5)\n",
    "\n",
    "plt.show()\n",
    "plt.clf()"
   ]
  },
  {
   "cell_type": "markdown",
   "id": "e562dbd6",
   "metadata": {
    "papermill": {
     "duration": 0.022179,
     "end_time": "2021-10-05T16:01:58.282331",
     "exception": false,
     "start_time": "2021-10-05T16:01:58.260152",
     "status": "completed"
    },
    "tags": []
   },
   "source": [
    "At this point I think we can be fairly confident that being the white pieces in chess gives you *some* statistical advantage. After all, white pieces go first, and essentially control the flow of the game until a grave mistake is made. If no mistakes are made, then everything black does is just in response to whatever white does.\n",
    "\n",
    "But certainly, rating also comes into play right? The lower your rating is, the more likely you are to make one of these mistakes (and that's completely fine).\n",
    "\n",
    "We should try grouping the games by rating to see what kind of effect it will have on the outcomes of the games."
   ]
  },
  {
   "cell_type": "markdown",
   "id": "39c31bdd",
   "metadata": {
    "papermill": {
     "duration": 0.021924,
     "end_time": "2021-10-05T16:01:58.326586",
     "exception": false,
     "start_time": "2021-10-05T16:01:58.304662",
     "status": "completed"
    },
    "tags": []
   },
   "source": [
    "## Does having white offer a particular advantage based on rating?"
   ]
  },
  {
   "cell_type": "code",
   "execution_count": 8,
   "id": "1f169641",
   "metadata": {
    "execution": {
     "iopub.execute_input": "2021-10-05T16:01:58.394350Z",
     "iopub.status.busy": "2021-10-05T16:01:58.393729Z",
     "iopub.status.idle": "2021-10-05T16:01:58.468221Z",
     "shell.execute_reply": "2021-10-05T16:01:58.468698Z",
     "shell.execute_reply.started": "2021-10-05T14:54:56.547509Z"
    },
    "papermill": {
     "duration": 0.120022,
     "end_time": "2021-10-05T16:01:58.468868",
     "exception": false,
     "start_time": "2021-10-05T16:01:58.348846",
     "status": "completed"
    },
    "tags": []
   },
   "outputs": [
    {
     "data": {
      "image/png": "[encoded data removed]",
      "text/plain": [
       "<Figure size 432x288 with 1 Axes>"
      ]
     },
     "metadata": {},
     "output_type": "display_data"
    }
   ],
   "source": [
    "#Create desired dataframe where every player is rated under a certain ELO\n",
    "\n",
    "#This mainly became a cell for me to mess around with the numbers a bit then\n",
    "#see how it affected the pie chart\n",
    "num = 1100\n",
    "df_under_num = df[(df.white_rating < num) & (df.black_rating < num)]\n",
    "\n",
    "df_under_num_winners = df_under_num.groupby('winner')['game_id'].count()\n",
    "df_under_num_winners\n",
    "\n",
    "plt.pie(x=df_under_num_winners, autopct=\"%.1f%%\", labels=df_under_num_winners.keys(), pctdistance=0.5)\n",
    "plt.title(\"Winning Percentage for Games Under {} ELO\".format(num), fontsize=14)\n",
    "plt.axis('equal')\n",
    "plt.show()"
   ]
  },
  {
   "cell_type": "markdown",
   "id": "f17e8616",
   "metadata": {
    "papermill": {
     "duration": 0.024181,
     "end_time": "2021-10-05T16:01:58.516292",
     "exception": false,
     "start_time": "2021-10-05T16:01:58.492111",
     "status": "completed"
    },
    "tags": []
   },
   "source": [
    "Well, if anything, it's fun to mess with the 'num' variable. For example, if you set it to 1100, the black pieces actually have a higher winning rate than the white pieces.\n",
    "\n",
    "# How does rating gap affect who wins?\n",
    "I think the answer to this question should be fairly simple. Our intuition might tell us that the higher-rated person would win a majority of the time. The more the rating gap between two players is, the higher the chance the higher-rated player will win. I can see this type of data being used in many ways, however. For instance, if a lower-rated player has many wins against someone with a significantly higher than them, it could be a red flag that they're using an engine to cheat. other variables would need to be looked at though. Are those games rated? Were the wins against the same person? If the answers are no then yes, in all likelihood a lower-rated player could just be practicing against a higher-rted friend. If yes then no, maybe the person is cheating. If yes then yes, perhaps someone is intentionally giving up points to someone else.\n",
    "\n",
    "There are many possibilities."
   ]
  },
  {
   "cell_type": "code",
   "execution_count": 9,
   "id": "36d6a9fe",
   "metadata": {
    "execution": {
     "iopub.execute_input": "2021-10-05T16:01:58.574337Z",
     "iopub.status.busy": "2021-10-05T16:01:58.573686Z",
     "iopub.status.idle": "2021-10-05T16:01:59.032658Z",
     "shell.execute_reply": "2021-10-05T16:01:59.033127Z",
     "shell.execute_reply.started": "2021-10-05T14:56:22.874557Z"
    },
    "papermill": {
     "duration": 0.492617,
     "end_time": "2021-10-05T16:01:59.033306",
     "exception": false,
     "start_time": "2021-10-05T16:01:58.540689",
     "status": "completed"
    },
    "tags": []
   },
   "outputs": [
    {
     "data": {
      "image/png": "[encoded data removed]",
      "text/plain": [
       "<Figure size 432x288 with 1 Axes>"
      ]
     },
     "metadata": {
      "needs_background": "light"
     },
     "output_type": "display_data"
    },
    {
     "data": {
      "text/plain": [
       "<Figure size 432x288 with 0 Axes>"
      ]
     },
     "metadata": {},
     "output_type": "display_data"
    }
   ],
   "source": [
    "sns.barplot(\n",
    "    data=df,\n",
    "    x='rating_gap_class',\n",
    "    y='higher_rated_victory',\n",
    "    order=['0-50', '51-100', '101-150', '151-200', '201-250', '>250'],\n",
    "    #palette='mako' This palette didn't exist anymore when I transferred this code from kaggle to jupyter :(\n",
    ")\n",
    "plt.xlabel('Rating Gap', fontsize=16)\n",
    "plt.ylabel('Win Rate by Higher Ratings', fontsize=16)\n",
    "plt.title('Win Rate by Rating Gap', fontsize=16)\n",
    "plt.show()\n",
    "plt.clf()"
   ]
  },
  {
   "cell_type": "markdown",
   "id": "e3ffcfa5",
   "metadata": {
    "papermill": {
     "duration": 0.023873,
     "end_time": "2021-10-05T16:01:59.081305",
     "exception": false,
     "start_time": "2021-10-05T16:01:59.057432",
     "status": "completed"
    },
    "tags": []
   },
   "source": [
    "As expected, the higher the rating gap, the higher the probability that the person with the higher rating wins.\n",
    "\n",
    "# Anybody with a particularly high amount of wins? What about win rate?"
   ]
  },
  {
   "cell_type": "code",
   "execution_count": 10,
   "id": "904a263d",
   "metadata": {
    "execution": {
     "iopub.execute_input": "2021-10-05T16:01:59.145311Z",
     "iopub.status.busy": "2021-10-05T16:01:59.144676Z",
     "iopub.status.idle": "2021-10-05T16:01:59.212287Z",
     "shell.execute_reply": "2021-10-05T16:01:59.211780Z",
     "shell.execute_reply.started": "2021-10-05T14:56:26.674672Z"
    },
    "papermill": {
     "duration": 0.107141,
     "end_time": "2021-10-05T16:01:59.212425",
     "exception": false,
     "start_time": "2021-10-05T16:01:59.105284",
     "status": "completed"
    },
    "tags": []
   },
   "outputs": [
    {
     "data": {
      "text/html": [
       "<div>\n",
       "<style scoped>\n",
       "    .dataframe tbody tr th:only-of-type {\n",
       "        vertical-align: middle;\n",
       "    }\n",
       "\n",
       "    .dataframe tbody tr th {\n",
       "        vertical-align: top;\n",
       "    }\n",
       "\n",
       "    .dataframe thead th {\n",
       "        text-align: right;\n",
       "    }\n",
       "</style>\n",
       "<table border=\"1\" class=\"dataframe\">\n",
       "  <thead>\n",
       "    <tr style=\"text-align: right;\">\n",
       "      <th></th>\n",
       "      <th>white_victories</th>\n",
       "      <th>white_games</th>\n",
       "      <th>black_games</th>\n",
       "      <th>black_victories</th>\n",
       "      <th>victories</th>\n",
       "      <th>games_played</th>\n",
       "      <th>win_pct</th>\n",
       "    </tr>\n",
       "    <tr>\n",
       "      <th>white_id</th>\n",
       "      <th></th>\n",
       "      <th></th>\n",
       "      <th></th>\n",
       "      <th></th>\n",
       "      <th></th>\n",
       "      <th></th>\n",
       "      <th></th>\n",
       "    </tr>\n",
       "  </thead>\n",
       "  <tbody>\n",
       "    <tr>\n",
       "      <th>rahza</th>\n",
       "      <td>1</td>\n",
       "      <td>1</td>\n",
       "      <td>0.0</td>\n",
       "      <td>0.0</td>\n",
       "      <td>1.0</td>\n",
       "      <td>1.0</td>\n",
       "      <td>1.0</td>\n",
       "    </tr>\n",
       "    <tr>\n",
       "      <th>houdini1ply</th>\n",
       "      <td>2</td>\n",
       "      <td>2</td>\n",
       "      <td>0.0</td>\n",
       "      <td>0.0</td>\n",
       "      <td>2.0</td>\n",
       "      <td>2.0</td>\n",
       "      <td>1.0</td>\n",
       "    </tr>\n",
       "    <tr>\n",
       "      <th>pakz91</th>\n",
       "      <td>1</td>\n",
       "      <td>1</td>\n",
       "      <td>0.0</td>\n",
       "      <td>0.0</td>\n",
       "      <td>1.0</td>\n",
       "      <td>1.0</td>\n",
       "      <td>1.0</td>\n",
       "    </tr>\n",
       "    <tr>\n",
       "      <th>holger1111</th>\n",
       "      <td>1</td>\n",
       "      <td>1</td>\n",
       "      <td>0.0</td>\n",
       "      <td>0.0</td>\n",
       "      <td>1.0</td>\n",
       "      <td>1.0</td>\n",
       "      <td>1.0</td>\n",
       "    </tr>\n",
       "    <tr>\n",
       "      <th>hola_yehmi</th>\n",
       "      <td>1</td>\n",
       "      <td>1</td>\n",
       "      <td>0.0</td>\n",
       "      <td>0.0</td>\n",
       "      <td>1.0</td>\n",
       "      <td>1.0</td>\n",
       "      <td>1.0</td>\n",
       "    </tr>\n",
       "  </tbody>\n",
       "</table>\n",
       "</div>"
      ],
      "text/plain": [
       "             white_victories  white_games  black_games  black_victories  \\\n",
       "white_id                                                                  \n",
       "rahza                      1            1          0.0              0.0   \n",
       "houdini1ply                2            2          0.0              0.0   \n",
       "pakz91                     1            1          0.0              0.0   \n",
       "holger1111                 1            1          0.0              0.0   \n",
       "hola_yehmi                 1            1          0.0              0.0   \n",
       "\n",
       "             victories  games_played  win_pct  \n",
       "white_id                                       \n",
       "rahza              1.0           1.0      1.0  \n",
       "houdini1ply        2.0           2.0      1.0  \n",
       "pakz91             1.0           1.0      1.0  \n",
       "holger1111         1.0           1.0      1.0  \n",
       "hola_yehmi         1.0           1.0      1.0  "
      ]
     },
     "execution_count": 10,
     "metadata": {},
     "output_type": "execute_result"
    }
   ],
   "source": [
    "#Get a DataFrame of all users who played white pieces and how many wins they accrued\n",
    "df_users_white = df.groupby('white_id',as_index=False).agg({'white_victory':'sum', 'game_id':'count'})\n",
    "df_users_white.rename(columns={'white_victory':'white_victories', 'game_id':'white_games'}, inplace=True)\n",
    "df_users_white = df_users_white.set_index('white_id')\n",
    "\n",
    "#Get a DataFrame of all users who had black pieces and how many victories their opponents accrued\n",
    "df_users_black = df.groupby('black_id',as_index=False).agg({'white_victory':'sum', 'game_id':'count'})\n",
    "df_users_black.rename(columns={'white_victory':'white_victories', 'game_id':'black_games'}, inplace=True)\n",
    "df_users_black = df_users_black.set_index('black_id')\n",
    "\n",
    "#Since we only know white piece victories, we need black piece victories to give us the number of games won by the key\n",
    "df_users_black['black_victories'] = df_users_black.black_games - df_users_black.white_victories\n",
    "df_users_black.drop('white_victories', axis=1, inplace=True)\n",
    "\n",
    "#Join the two dataframes together on the index (username in this case). Some will have NaN values because of the nature of the join\n",
    "#But we can just replace those with 0\n",
    "df_users = df_users_white.join(df_users_black)\n",
    "df_users = df_users.fillna(0)\n",
    "\n",
    "#add columns for total victories and total games played\n",
    "df_users['victories'] = df_users.white_victories + df_users.black_victories\n",
    "df_users['games_played'] = df_users.white_games + df_users.black_games\n",
    "\n",
    "#Now that we have total number of wins and games played, how about winning percentage?\n",
    "df_users['win_pct'] = df_users.victories / df_users.games_played\n",
    "\n",
    "\n",
    "#Let's sort the df by people who have the highest win percentage\n",
    "df_users_sorted = df_users.sort_values(by=['win_pct'], ascending=False)\n",
    "df_users_sorted.head(5)"
   ]
  },
  {
   "cell_type": "markdown",
   "id": "b9b5c9b8",
   "metadata": {
    "papermill": {
     "duration": 0.02422,
     "end_time": "2021-10-05T16:01:59.261715",
     "exception": false,
     "start_time": "2021-10-05T16:01:59.237495",
     "status": "completed"
    },
    "tags": []
   },
   "source": [
    "We now have a *possible* list of cheaters listed up above. However, the names displayed really didn't play that many games, so there is a good chance these users played fair and square.\n",
    "\n",
    "Let's try to filter the number of games played by the users to see if we can spot any possible cheaters.\n"
   ]
  },
  {
   "cell_type": "code",
   "execution_count": 11,
   "id": "7aeb206d",
   "metadata": {
    "execution": {
     "iopub.execute_input": "2021-10-05T16:01:59.316811Z",
     "iopub.status.busy": "2021-10-05T16:01:59.316239Z",
     "iopub.status.idle": "2021-10-05T16:01:59.331732Z",
     "shell.execute_reply": "2021-10-05T16:01:59.331257Z",
     "shell.execute_reply.started": "2021-10-05T14:56:43.312964Z"
    },
    "papermill": {
     "duration": 0.045472,
     "end_time": "2021-10-05T16:01:59.331864",
     "exception": false,
     "start_time": "2021-10-05T16:01:59.286392",
     "status": "completed"
    },
    "tags": []
   },
   "outputs": [
    {
     "data": {
      "text/html": [
       "<div>\n",
       "<style scoped>\n",
       "    .dataframe tbody tr th:only-of-type {\n",
       "        vertical-align: middle;\n",
       "    }\n",
       "\n",
       "    .dataframe tbody tr th {\n",
       "        vertical-align: top;\n",
       "    }\n",
       "\n",
       "    .dataframe thead th {\n",
       "        text-align: right;\n",
       "    }\n",
       "</style>\n",
       "<table border=\"1\" class=\"dataframe\">\n",
       "  <thead>\n",
       "    <tr style=\"text-align: right;\">\n",
       "      <th></th>\n",
       "      <th>white_victories</th>\n",
       "      <th>white_games</th>\n",
       "      <th>black_games</th>\n",
       "      <th>black_victories</th>\n",
       "      <th>victories</th>\n",
       "      <th>games_played</th>\n",
       "      <th>win_pct</th>\n",
       "    </tr>\n",
       "    <tr>\n",
       "      <th>white_id</th>\n",
       "      <th></th>\n",
       "      <th></th>\n",
       "      <th></th>\n",
       "      <th></th>\n",
       "      <th></th>\n",
       "      <th></th>\n",
       "      <th></th>\n",
       "    </tr>\n",
       "  </thead>\n",
       "  <tbody>\n",
       "    <tr>\n",
       "      <th>chesswithmom</th>\n",
       "      <td>14</td>\n",
       "      <td>14</td>\n",
       "      <td>10.0</td>\n",
       "      <td>10.0</td>\n",
       "      <td>24.0</td>\n",
       "      <td>24.0</td>\n",
       "      <td>1.000000</td>\n",
       "    </tr>\n",
       "    <tr>\n",
       "      <th>siindbad</th>\n",
       "      <td>13</td>\n",
       "      <td>13</td>\n",
       "      <td>13.0</td>\n",
       "      <td>13.0</td>\n",
       "      <td>26.0</td>\n",
       "      <td>26.0</td>\n",
       "      <td>1.000000</td>\n",
       "    </tr>\n",
       "    <tr>\n",
       "      <th>smartduckduckcow</th>\n",
       "      <td>3</td>\n",
       "      <td>3</td>\n",
       "      <td>21.0</td>\n",
       "      <td>21.0</td>\n",
       "      <td>24.0</td>\n",
       "      <td>24.0</td>\n",
       "      <td>1.000000</td>\n",
       "    </tr>\n",
       "    <tr>\n",
       "      <th>chesscarl</th>\n",
       "      <td>18</td>\n",
       "      <td>18</td>\n",
       "      <td>28.0</td>\n",
       "      <td>27.0</td>\n",
       "      <td>45.0</td>\n",
       "      <td>46.0</td>\n",
       "      <td>0.978261</td>\n",
       "    </tr>\n",
       "    <tr>\n",
       "      <th>lzchips</th>\n",
       "      <td>12</td>\n",
       "      <td>13</td>\n",
       "      <td>13.0</td>\n",
       "      <td>13.0</td>\n",
       "      <td>25.0</td>\n",
       "      <td>26.0</td>\n",
       "      <td>0.961538</td>\n",
       "    </tr>\n",
       "    <tr>\n",
       "      <th>christina-a-11</th>\n",
       "      <td>14</td>\n",
       "      <td>15</td>\n",
       "      <td>11.0</td>\n",
       "      <td>11.0</td>\n",
       "      <td>25.0</td>\n",
       "      <td>26.0</td>\n",
       "      <td>0.961538</td>\n",
       "    </tr>\n",
       "    <tr>\n",
       "      <th>smilsydov</th>\n",
       "      <td>15</td>\n",
       "      <td>16</td>\n",
       "      <td>22.0</td>\n",
       "      <td>21.0</td>\n",
       "      <td>36.0</td>\n",
       "      <td>38.0</td>\n",
       "      <td>0.947368</td>\n",
       "    </tr>\n",
       "    <tr>\n",
       "      <th>doraemon61</th>\n",
       "      <td>18</td>\n",
       "      <td>19</td>\n",
       "      <td>23.0</td>\n",
       "      <td>21.0</td>\n",
       "      <td>39.0</td>\n",
       "      <td>42.0</td>\n",
       "      <td>0.928571</td>\n",
       "    </tr>\n",
       "    <tr>\n",
       "      <th>gmanderson</th>\n",
       "      <td>12</td>\n",
       "      <td>12</td>\n",
       "      <td>12.0</td>\n",
       "      <td>10.0</td>\n",
       "      <td>22.0</td>\n",
       "      <td>24.0</td>\n",
       "      <td>0.916667</td>\n",
       "    </tr>\n",
       "    <tr>\n",
       "      <th>laode_syahril</th>\n",
       "      <td>16</td>\n",
       "      <td>20</td>\n",
       "      <td>22.0</td>\n",
       "      <td>22.0</td>\n",
       "      <td>38.0</td>\n",
       "      <td>42.0</td>\n",
       "      <td>0.904762</td>\n",
       "    </tr>\n",
       "  </tbody>\n",
       "</table>\n",
       "</div>"
      ],
      "text/plain": [
       "                  white_victories  white_games  black_games  black_victories  \\\n",
       "white_id                                                                       \n",
       "chesswithmom                   14           14         10.0             10.0   \n",
       "siindbad                       13           13         13.0             13.0   \n",
       "smartduckduckcow                3            3         21.0             21.0   \n",
       "chesscarl                      18           18         28.0             27.0   \n",
       "lzchips                        12           13         13.0             13.0   \n",
       "christina-a-11                 14           15         11.0             11.0   \n",
       "smilsydov                      15           16         22.0             21.0   \n",
       "doraemon61                     18           19         23.0             21.0   \n",
       "gmanderson                     12           12         12.0             10.0   \n",
       "laode_syahril                  16           20         22.0             22.0   \n",
       "\n",
       "                  victories  games_played   win_pct  \n",
       "white_id                                             \n",
       "chesswithmom           24.0          24.0  1.000000  \n",
       "siindbad               26.0          26.0  1.000000  \n",
       "smartduckduckcow       24.0          24.0  1.000000  \n",
       "chesscarl              45.0          46.0  0.978261  \n",
       "lzchips                25.0          26.0  0.961538  \n",
       "christina-a-11         25.0          26.0  0.961538  \n",
       "smilsydov              36.0          38.0  0.947368  \n",
       "doraemon61             39.0          42.0  0.928571  \n",
       "gmanderson             22.0          24.0  0.916667  \n",
       "laode_syahril          38.0          42.0  0.904762  "
      ]
     },
     "execution_count": 11,
     "metadata": {},
     "output_type": "execute_result"
    }
   ],
   "source": [
    "game_threshold = 24\n",
    "df_users_many_games = df_users[(df_users.games_played >= game_threshold)]\n",
    "df_users_many_games_sorted = df_users_many_games.sort_values(by=['win_pct'], ascending=False)\n",
    "df_users_many_games_sorted.head(10)"
   ]
  },
  {
   "cell_type": "markdown",
   "id": "c1c2033b",
   "metadata": {
    "papermill": {
     "duration": 0.025214,
     "end_time": "2021-10-05T16:01:59.382160",
     "exception": false,
     "start_time": "2021-10-05T16:01:59.356946",
     "status": "completed"
    },
    "tags": []
   },
   "source": [
    "Okay, **now** we might have found some cheaters. Let's further analyze their data to see what they're up to. The list of possible cheaters is not limited to just the names shown, to be clear. I just displayed the top 10 users who played 24 games or more."
   ]
  },
  {
   "cell_type": "markdown",
   "id": "adf9f91a",
   "metadata": {
    "papermill": {
     "duration": 0.024808,
     "end_time": "2021-10-05T16:01:59.431915",
     "exception": false,
     "start_time": "2021-10-05T16:01:59.407107",
     "status": "completed"
    },
    "tags": []
   },
   "source": [
    "# Cheater Case Study\n",
    "\n",
    "I am going to pick a particularly fishy player from our list of people above. Let's take a look at the user **chesscarl** based on the fact that they won 45 out of 46 games played in this set of data."
   ]
  },
  {
   "cell_type": "code",
   "execution_count": 12,
   "id": "bf94f7bc",
   "metadata": {
    "execution": {
     "iopub.execute_input": "2021-10-05T16:01:59.485277Z",
     "iopub.status.busy": "2021-10-05T16:01:59.484586Z",
     "iopub.status.idle": "2021-10-05T16:01:59.493713Z",
     "shell.execute_reply": "2021-10-05T16:01:59.494176Z",
     "shell.execute_reply.started": "2021-10-05T15:01:59.866312Z"
    },
    "papermill": {
     "duration": 0.037302,
     "end_time": "2021-10-05T16:01:59.494347",
     "exception": false,
     "start_time": "2021-10-05T16:01:59.457045",
     "status": "completed"
    },
    "tags": []
   },
   "outputs": [
    {
     "data": {
      "text/plain": [
       "array([ True])"
      ]
     },
     "execution_count": 12,
     "metadata": {},
     "output_type": "execute_result"
    }
   ],
   "source": [
    "#Get a DataFrame containing all of the games chesscarl played\n",
    "df_carl = df[(df.white_id == 'chesscarl') | (df.black_id == 'chesscarl')]\n",
    "df_carl.rated.unique()"
   ]
  },
  {
   "cell_type": "markdown",
   "id": "6c58fd7d",
   "metadata": {
    "papermill": {
     "duration": 0.026094,
     "end_time": "2021-10-05T16:01:59.545991",
     "exception": false,
     "start_time": "2021-10-05T16:01:59.519897",
     "status": "completed"
    },
    "tags": []
   },
   "source": [
    "A quick glance at the DataFrame tells us that all the games chesscarl has played were rated games, meaning ELO points were on the line. This tells me that there are three possibilities:\n",
    "- chesscarl is cheating\n",
    "- chesscarl created a smurf account, and is quickly climbing the ratings\n",
    "- chesscarl is grabbing ELO points from a friend\n",
    "\n",
    "Or it could be something completely different, I wouldn't know. We can take a look at the opponents chesscarl played to try to rule out the third option:"
   ]
  },
  {
   "cell_type": "code",
   "execution_count": 13,
   "id": "17507006",
   "metadata": {
    "execution": {
     "iopub.execute_input": "2021-10-05T16:01:59.600039Z",
     "iopub.status.busy": "2021-10-05T16:01:59.599407Z",
     "iopub.status.idle": "2021-10-05T16:01:59.604982Z",
     "shell.execute_reply": "2021-10-05T16:01:59.605421Z",
     "shell.execute_reply.started": "2021-10-05T15:10:50.627561Z"
    },
    "papermill": {
     "duration": 0.034269,
     "end_time": "2021-10-05T16:01:59.605601",
     "exception": false,
     "start_time": "2021-10-05T16:01:59.571332",
     "status": "completed"
    },
    "tags": []
   },
   "outputs": [
    {
     "name": "stdout",
     "output_type": "stream",
     "text": [
      "['chilon' 'loebas' 'thelordoftheboard' 'lebbeusz2450' 'chesscarl'\n",
      " 'angel2006' 'aca021' 'rigoberto_22' 'heisenberg3' 'vchess4' 'slobodan7'\n",
      " 'fire_on_the_board' 'rodrigo-sagastegui' 'bdoq' 'hayki34' 'klemi'\n",
      " 'mavrincbor' 'peshkach' 'ibonuribeetxebarria' 'foucheval' 'comped'\n",
      " 'bshma' 'thorfabian' 'oilen1401' 'mahyir35' 'superii']\n",
      "['chesscarl' 'christopho' 'kiterdekel' 'a_b_d_o' 'angel2006'\n",
      " 'mario-panagiotis' 'grosschess' 'danielsor' 'sergey197316' 'anna1605'\n",
      " 'wevertonsoares' 'withouttroble' 'g_king' 'krembrule' 'grewia'\n",
      " 'ratnikmora' 'just_emza' 'gfinch' 'mahyir35']\n"
     ]
    }
   ],
   "source": [
    "#Get all the unique ids in the games chesscarl has played\n",
    "print(df_carl.white_id.unique())\n",
    "print(df_carl.black_id.unique())"
   ]
  },
  {
   "cell_type": "markdown",
   "id": "056556d5",
   "metadata": {
    "papermill": {
     "duration": 0.025596,
     "end_time": "2021-10-05T16:01:59.657185",
     "exception": false,
     "start_time": "2021-10-05T16:01:59.631589",
     "status": "completed"
    },
    "tags": []
   },
   "source": [
    "Since there are many different accounts chesscarl played against, it's unlikely the third option is true, so we can rule that out. Let's take a look at a few more things."
   ]
  },
  {
   "cell_type": "code",
   "execution_count": 14,
   "id": "299a037b",
   "metadata": {
    "execution": {
     "iopub.execute_input": "2021-10-05T16:01:59.718907Z",
     "iopub.status.busy": "2021-10-05T16:01:59.717972Z",
     "iopub.status.idle": "2021-10-05T16:01:59.722100Z",
     "shell.execute_reply": "2021-10-05T16:01:59.722531Z",
     "shell.execute_reply.started": "2021-10-05T15:56:37.406877Z"
    },
    "papermill": {
     "duration": 0.039454,
     "end_time": "2021-10-05T16:01:59.722691",
     "exception": false,
     "start_time": "2021-10-05T16:01:59.683237",
     "status": "completed"
    },
    "tags": []
   },
   "outputs": [
    {
     "name": "stdout",
     "output_type": "stream",
     "text": [
      "Chesscarl is a higher rating in 43 of their 46 games.\n"
     ]
    },
    {
     "name": "stderr",
     "output_type": "stream",
     "text": [
      "<ipython-input-14-9129853c1528>:3: SettingWithCopyWarning: \n",
      "A value is trying to be set on a copy of a slice from a DataFrame.\n",
      "Try using .loc[row_indexer,col_indexer] = value instead\n",
      "\n",
      "See the caveats in the documentation: https://pandas.pydata.org/pandas-docs/stable/user_guide/indexing.html#returning-a-view-versus-a-copy\n",
      "  df_carl['carl_higher'] = np.where((df_carl['white_id'] == 'chesscarl') & (df_carl['white_rating'] > df_carl['black_rating']) | (df_carl['black_id'] == 'chesscarl') & (df_carl['black_rating'] > df_carl['white_rating']), 1, 0)\n"
     ]
    }
   ],
   "source": [
    "#In how many games was chesscarl the higher-rated player? Adding a column to tell us whether they were or not\n",
    "#This gives me an error but I'm going to ignore it for now even though it's really annoying...\n",
    "df_carl['carl_higher'] = np.where((df_carl['white_id'] == 'chesscarl') & (df_carl['white_rating'] > df_carl['black_rating']) | (df_carl['black_id'] == 'chesscarl') & (df_carl['black_rating'] > df_carl['white_rating']), 1, 0)\n",
    "\n",
    "#df_carl[['white_id', 'white_rating', 'black_id', 'black_rating', 'carl_higher', 'rating_gap']].head(10)\n",
    "\n",
    "#We can get the number of games that chesscarl was rated higher than their opponents by using the .sum() function on the dataframe\n",
    "num_carl_higher = df_carl.carl_higher.sum()\n",
    "print('Chesscarl is a higher rating in', num_carl_higher, 'of their', len(df_carl), 'games.')"
   ]
  },
  {
   "cell_type": "markdown",
   "id": "c35e2490",
   "metadata": {
    "papermill": {
     "duration": 0.025766,
     "end_time": "2021-10-05T16:01:59.774975",
     "exception": false,
     "start_time": "2021-10-05T16:01:59.749209",
     "status": "completed"
    },
    "tags": []
   },
   "source": [
    "So it looks like chesscarl was the higher-rated player in 43 out of the 46 games they played. This might account for their extraordinary amount of wins. As one last check, let's see what the average rating gap between the two players were in both the games carl was higher-rated and lower-rated."
   ]
  },
  {
   "cell_type": "code",
   "execution_count": 15,
   "id": "97b7a4e3",
   "metadata": {
    "execution": {
     "iopub.execute_input": "2021-10-05T16:01:59.831270Z",
     "iopub.status.busy": "2021-10-05T16:01:59.830274Z",
     "iopub.status.idle": "2021-10-05T16:01:59.838573Z",
     "shell.execute_reply": "2021-10-05T16:01:59.838981Z",
     "shell.execute_reply.started": "2021-10-05T15:59:36.910405Z"
    },
    "papermill": {
     "duration": 0.038288,
     "end_time": "2021-10-05T16:01:59.839183",
     "exception": false,
     "start_time": "2021-10-05T16:01:59.800895",
     "status": "completed"
    },
    "tags": []
   },
   "outputs": [
    {
     "name": "stdout",
     "output_type": "stream",
     "text": [
      "Average rating above opponents when higher-rated: 355.48837209302326\n",
      "Average rating below opponents when lower-rated: 68.0\n"
     ]
    }
   ],
   "source": [
    "df_carl_is_higher = df_carl[(df_carl.carl_higher == 1)]\n",
    "df_carl_is_lower = df_carl[(df_carl.carl_higher == 0)]\n",
    "\n",
    "print('Average rating above opponents when higher-rated:', df_carl_is_higher.rating_gap.mean())\n",
    "print('Average rating below opponents when lower-rated:', df_carl_is_lower.rating_gap.mean())"
   ]
  },
  {
   "cell_type": "markdown",
   "id": "394bf0d2",
   "metadata": {
    "papermill": {
     "duration": 0.026069,
     "end_time": "2021-10-05T16:01:59.892228",
     "exception": false,
     "start_time": "2021-10-05T16:01:59.866159",
     "status": "completed"
    },
    "tags": []
   },
   "source": [
    "Hmm, so it looks like this 'Carl' character got most of their wins by bullying players at a much lower rating. When Carl's opponents had a higher rating (which was only in 3 games) they averaged 68 points higher. When Carl was the higher-rated player, Carl was, on average, 355 points above their opponent."
   ]
  },
  {
   "cell_type": "markdown",
   "id": "7818e04a",
   "metadata": {},
   "source": [
    "Let's do an analysis how similar chesscarl's moves were to top engine moves. This is where our stockfish python module comes in."
   ]
  },
  {
   "cell_type": "code",
   "execution_count": 16,
   "id": "12620ea9",
   "metadata": {},
   "outputs": [],
   "source": [
    "#Let's make this a function so I can arbitrarily use this for any username that seems suspicious\n",
    "\n",
    "def get_engine_similarity(df, username, top_moves_num=3):\n",
    "    #create an empty list to store the similarity between chesscarl's moves and a 2600-rated engine's top 3 moves\n",
    "    #I will store the similarity in percentages for each game\n",
    "    engine_pct = []\n",
    "    df_white = df[(df.white_id == username)]\n",
    "    df_black = df[(df.black_id == username)]\n",
    "    \n",
    "    #loop through the moves in each white game, comparing to top engine moves\n",
    "    for index, row in df_white.iterrows():\n",
    "        similar_moves = 0\n",
    "        moves_list = row['moves_list'] #get moves made by specified user\n",
    "        board = chess.Board()\n",
    "        for i in range(len(moves_list)):\n",
    "            if i % 2 == 0:\n",
    "                stockfish = Stockfish('C:/Users/cbarg/Downloads/stockfish_14_win_x64_avx2/stockfish_14_win_x64_avx2/stockfish_14_x64_avx2.exe')\n",
    "                stockfish.set_fen_position(board.fen()) #updates the current board position for stockfish\n",
    "                engine_moves = stockfish.get_top_moves(top_moves_num) #returns a list of dictionaries containing the top moves\n",
    "                \n",
    "                #get the fen notation for the move made by the specified user\n",
    "                board.push_san(moves_list[i])\n",
    "                fen1 = board.fen()\n",
    "                board.pop()\n",
    "                #get the fen notation for all of the top moves and compare it to the fen notation of the move made by the user\n",
    "                for dic in engine_moves:\n",
    "                    board.push_san(dic['Move'])\n",
    "                    fen2 = board.fen()\n",
    "                    board.pop()\n",
    "                    if fen1 == fen2:\n",
    "                        similar_moves = similar_moves + 1 #add 1 to counter if fen position of engine = fen position of user\n",
    "                board.push_san(moves_list[i]) #make white move\n",
    "            else:\n",
    "                board.push_san(moves_list[i]) #make black move (no need to compare these moves to the engine)\n",
    "        similarity_pct = similar_moves / math.ceil(len(moves_list)/2)\n",
    "        engine_pct.append(similarity_pct)\n",
    "    \n",
    "    #loop through the moves in each black game, comparing to top engine moves\n",
    "    for index, row in df_black.iterrows():\n",
    "        similar_moves = 0\n",
    "        moves_list = row['moves_list']\n",
    "        board = chess.Board()\n",
    "        for i in range(len(moves_list)):\n",
    "            if i % 2 == 1:\n",
    "                stockfish = Stockfish('C:/Users/cbarg/Downloads/stockfish_14_win_x64_avx2/stockfish_14_win_x64_avx2/stockfish_14_x64_avx2.exe')\n",
    "                stockfish.set_fen_position(board.fen())\n",
    "                engine_moves = stockfish.get_top_moves(top_moves_num)\n",
    "                board.push_san(moves_list[i])\n",
    "                fen1 = board.fen()\n",
    "                board.pop()\n",
    "                for dic in engine_moves:\n",
    "                    board.push_san(dic['Move'])\n",
    "                    fen2 = board.fen()\n",
    "                    board.pop()\n",
    "                    if fen1 == fen2:\n",
    "                        similar_moves = similar_moves + 1\n",
    "                board.push_san(moves_list[i])\n",
    "            else:\n",
    "                board.push_san(moves_list[i])\n",
    "        similarity_pct = similar_moves / math.floor(len(moves_list)/2)\n",
    "        engine_pct.append(similarity_pct)\n",
    "    \n",
    "    return engine_pct"
   ]
  },
  {
   "cell_type": "code",
   "execution_count": 17,
   "id": "7d9ea822",
   "metadata": {},
   "outputs": [
    {
     "name": "stdout",
     "output_type": "stream",
     "text": [
      "[0.95, 0.68, 0.7272727272727273, 0.9047619047619048, 0.7619047619047619, 0.7333333333333333, 0.8695652173913043, 0.7741935483870968, 1.0, 0.6190476190476191, 0.6428571428571429, 0.76, 0.7714285714285715, 0.8095238095238095, 0.9310344827586207, 0.875, 0.8076923076923077, 0.7857142857142857, 0.8604651162790697, 0.8275862068965517, 0.88, 0.7419354838709677, 0.8333333333333334, 0.875, 0.875, 0.8421052631578947, 0.7857142857142857, 0.8108108108108109, 0.7916666666666666, 0.6, 0.8888888888888888, 0.6923076923076923, 0.9411764705882353, 0.8571428571428571, 0.7222222222222222, 0.8947368421052632, 0.9285714285714286, 0.8260869565217391, 0.8181818181818182, 0.66, 1.0, 0.8333333333333334, 0.82, 0.7924528301886793, 0.7272727272727273, 0.6944444444444444]\n"
     ]
    }
   ],
   "source": [
    "chesscarl_game_engine_analysis = get_engine_similarity(df, 'chesscarl', 4)\n",
    "print(chesscarl_game_engine_analysis)"
   ]
  },
  {
   "cell_type": "code",
   "execution_count": 18,
   "id": "8089b1c0",
   "metadata": {},
   "outputs": [
    {
     "data": {
      "image/png": "[encoded data removed]",
      "text/plain": [
       "<Figure size 432x288 with 1 Axes>"
      ]
     },
     "metadata": {
      "needs_background": "light"
     },
     "output_type": "display_data"
    }
   ],
   "source": [
    "plt.hist(chesscarl_game_engine_analysis, bins=20, color='mediumseagreen')\n",
    "plt.xlabel('Percent of Moves Similar to Top 4 Engine Moves')\n",
    "plt.ylabel('Occurrences')\n",
    "plt.title('Chesscarl Engine Move Similarity')\n",
    "plt.show()"
   ]
  },
  {
   "cell_type": "markdown",
   "id": "84c98ab0",
   "metadata": {},
   "source": [
    "Looking at the histogram, we can see that in each game chesscarl played, at least 60% of their moves were similar to a top-4 engine move in each game, according to stockfish 14. In some games, although we don't know the length of the games from looking at the histogram, chesscarl matched the top four engine moves 100%.\n",
    "\n",
    "Again, since we concluded that chesscarl was just playing against lower-rated players in nearly every game, it's not hard to find top moves in that scenario. But now that I have this function, I can take a look at the accuracy of any player I choose to determine how accurate they are with respect to engines. It's not a perfect system like chess.com's accuracy percentage, but it does what I want it to do."
   ]
  }
 ],
 "metadata": {
  "kernelspec": {
   "display_name": "Python 3",
   "language": "python",
   "name": "python3"
  },
  "language_info": {
   "codemirror_mode": {
    "name": "ipython",
    "version": 3
   },
   "file_extension": ".py",
   "mimetype": "text/x-python",
   "name": "python",
   "nbconvert_exporter": "python",
   "pygments_lexer": "ipython3",
   "version": "3.8.8"
  },
  "papermill": {
   "default_parameters": {},
   "duration": 15.80867,
   "end_time": "2021-10-05T16:02:01.536973",
   "environment_variables": {},
   "exception": null,
   "input_path": "__notebook__.ipynb",
   "output_path": "__notebook__.ipynb",
   "parameters": {},
   "start_time": "2021-10-05T16:01:45.728303",
   "version": "2.3.3"
  }
 },
 "nbformat": 4,
 "nbformat_minor": 5
}
